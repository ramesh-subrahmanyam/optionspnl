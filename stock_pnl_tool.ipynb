{
 "cells": [
  {
   "cell_type": "code",
   "execution_count": null,
   "id": "96dbcad7",
   "metadata": {},
   "outputs": [],
   "source": [
    "%load_ext autoreload\n",
    "%autoreload 2"
   ]
  },
  {
   "cell_type": "code",
   "execution_count": null,
   "id": "f4116e71",
   "metadata": {},
   "outputs": [],
   "source": [
    "import numpy as np\n",
    "import pandas as pd\n",
    "import datetime\n",
    "from stocks import StockTrades\n",
    "import matplotlib.pyplot as plt\n",
    "from positionslib import read_positions_file\n"
   ]
  },
  {
   "cell_type": "code",
   "execution_count": null,
   "id": "bf580052",
   "metadata": {},
   "outputs": [],
   "source": [
    "!\"C:\\\\Program Files\\\\Git\\\\usr\\\\bin\\\\grep.exe\" -v \"as of\" all.csv > all_filt.csv\n"
   ]
  },
  {
   "cell_type": "code",
   "execution_count": null,
   "id": "c6103aa2",
   "metadata": {},
   "outputs": [],
   "source": [
    "def find_key(key, dct, default=None):\n",
    "    # Filter keys in the dictionary that are less than or equal to key\n",
    "    valid_keys = [k for k in dct if k >= key]\n",
    "    \n",
    "    if not valid_keys:\n",
    "        # If no valid keys found, return None \n",
    "        return default\n",
    "    \n",
    "    # Return the pnl value corresponding to the latest date\n",
    "    return dct[max(valid_keys)]\n"
   ]
  },
  {
   "cell_type": "code",
   "execution_count": null,
   "id": "69c4cffd",
   "metadata": {},
   "outputs": [],
   "source": [
    "def compute_stock_pnl(symbol, start_dates, end_date, price, qty):\n",
    "    start_dates=list(sorted(start_dates))\n",
    "\n",
    "    trades = StockTrades(symbol, start_dates[0], end_date)\n",
    "    trades.read_data(\"all_filt.csv\")\n",
    "    # Access the filtered DataFrame\n",
    "    if trades.df is not None:\n",
    "        pass    \n",
    "    else:\n",
    "        print(\"No data matching the criteria.\")\n",
    "    \n",
    "    dct=trades.find_pnl(qty, price)\n",
    "    pnls=[]\n",
    "    for dt in start_dates:\n",
    "        dt1=pd.to_datetime(dt, format='%m/%d/%Y')\n",
    "        pnls.append(find_key(dt1, dct, default=np.nan))\n",
    "            # find the latest date in the keys of dct that precedes dt\n",
    "            # and save the corresponding pnl in out_lst\n",
    "            # if there is no such date, then store NaN\n",
    "    return pnls\n",
    "\n",
    "symbol = \"AMD\"\n",
    "# date_format = \"%m/%d/%Y\"\n",
    "\n",
    "# # Use datetime.strptime() to parse the date string into a datetime object\n",
    "# # start_date = datetime.datetime.strptime(\"01/01/2023\", date_format).date()\n",
    "# # end_date = datetime.datetime.strptime(\"04/17/2024\", date_format).date()\n",
    "\n",
    "current_price=79.19\n",
    "start_date = \"01/01/2024\"\n",
    "end_date = \"12/20/2024\"\n",
    "\n",
    "pos=0\n",
    "_ =compute_stock_pnl(symbol, [start_date], end_date, current_price, pos)\n",
    "\n",
    "\n"
   ]
  },
  {
   "cell_type": "code",
   "execution_count": null,
   "id": "1f6cf478",
   "metadata": {},
   "outputs": [],
   "source": [
    "\n",
    "start_date = \"01/01/2024\"\n",
    "end_date = \"12/20/2024\"\n",
    "df=read_positions_file(\"pos.csv\")\n",
    "df=df.loc[df[\"Security Type\"] != \"Option\", [\"Symbol\", \"Price\", \"Quantity\"]]\n",
    "symbols=[\"GLD\", \"ARKK\", \"VNQ\", \"BIDU\", \"CBRL\", \"XBI\", \"ITB\", \"FI\", \"DIA\", \"CRWD\",\n",
    "          \"JACK\", \"XHB\",  \"XLK\", \"XLV\",  \"VO\", \"XLY\", \"CRM\", \"ADSK\", \"AMD\", \"XOP\", \"HD\", \"LULU\"]\n",
    "pnls=[]\n",
    "for symbol in sorted(list(set(symbols))):\n",
    "    #locate the row with Symbol == symbol; \n",
    "\n",
    "    try:\n",
    "        x=df.loc[df.Symbol == symbol]\n",
    "        if len(x) ==0:\n",
    "            p, q=0,0\n",
    "        else:\n",
    "            p, q=x.Price.iloc[0], x.Quantity.iloc[0]\n",
    "        # print(symbol, p, q)\n",
    "        \n",
    "        pnl=compute_stock_pnl(symbol, [start_date], end_date, p, q)\n",
    "        pnls.append([symbol, p, q] + pnl)\n",
    "    except:\n",
    "        print(\"Skipping\", symbol)\n",
    "out_df=pd.DataFrame(pnls, columns=[\"symbol\", \"price\", \"qty\", \"pnl\"])\n",
    "print(\"Total pnl\", out_df.pnl.sum())\n",
    "out_df\n",
    "\n",
    "                                                                            \n",
    "\n"
   ]
  },
  {
   "cell_type": "code",
   "execution_count": null,
   "id": "5b48690d",
   "metadata": {},
   "outputs": [],
   "source": []
  }
 ],
 "metadata": {
  "kernelspec": {
   "display_name": "Python 3",
   "language": "python",
   "name": "python3"
  },
  "language_info": {
   "codemirror_mode": {
    "name": "ipython",
    "version": 3
   },
   "file_extension": ".py",
   "mimetype": "text/x-python",
   "name": "python",
   "nbconvert_exporter": "python",
   "pygments_lexer": "ipython3",
   "version": "3.12.4"
  }
 },
 "nbformat": 4,
 "nbformat_minor": 5
}
