{
 "cells": [
  {
   "cell_type": "code",
   "execution_count": null,
   "id": "35025de0",
   "metadata": {},
   "outputs": [],
   "source": [
    "%reload_ext autoreload\n",
    "%autoreload 2\n",
    "\n",
    "import pnllib \n",
    "import datetime\n",
    "import pandas as pd\n",
    "\n",
    "pnllib.set_log_level(pnllib.ERROR)\n",
    "trades_file=\"/Users/rameshsubrahmanyam/Desktop/all.csv\"\n"
   ]
  },
  {
   "cell_type": "markdown",
   "id": "f9dfe829",
   "metadata": {},
   "source": [
    "## Section 1\n",
    "\n",
    "This section will allow you to produce a month-by-month table showing average wins, losses, total pnl etc"
   ]
  },
  {
   "cell_type": "markdown",
   "id": "959f7917",
   "metadata": {},
   "source": [
    "### you can change various things in the next cell\n",
    "    \n",
    "    \n",
    "    The calculations will be done starting 'start_month' and ending 'end_month'.  For example:\n",
    "    \n",
    "    if you only want to run this for expiration month April 2023 you can set start_month and end_month, both to 4.  You would write\n",
    "    \n",
    "       year=2023\n",
    "       start_month=4\n",
    "       end_month=4\n",
    "  \n",
    "    If you want to run the calculations for expiration months February 2022 to June 2022, you would write\n",
    "        \n",
    "        year=2022\n",
    "        start_month=2\n",
    "        end_month=6"
   ]
  },
  {
   "cell_type": "code",
   "execution_count": null,
   "id": "455092d1",
   "metadata": {},
   "outputs": [],
   "source": [
    "start_month=1\n",
    "end_month=8\n",
    "year=2024\n",
    "opt_type=None\n",
    "exp_low, exp_high=datetime.date(2023, 1, 1), datetime.date(2024, 12, 20)\n",
    "trades=pnllib.Trade(trades_file, exp_low, exp_high)\n"
   ]
  },
  {
   "cell_type": "code",
   "execution_count": null,
   "id": "14d9630e",
   "metadata": {},
   "outputs": [],
   "source": [
    "\n",
    "symbol=None\n",
    "out =[]\n",
    "index=range(start_month, end_month+1)\n",
    "for month in index:\n",
    "    pnl_dict, _, _=trades.compute_option_pnls(month, year, symbol=symbol, opt_type=opt_type)\n",
    "    pnl_by_stock, total_pnl =pnllib.group_option_pnls_by_stock(pnl_dict)\n",
    "    out.append(list(pnllib.compute_trade_stats(pnl_dict)) + [len(pnl_by_stock)])\n",
    "df=pd.DataFrame(out,\n",
    "                index=index,\n",
    "                columns=[\"avg_loss\", \"avg_win\", \"num_loss\", \"num_win\", \"total_pnl\", \"num_stocks\"])\n",
    "\n",
    "print (\"Total_pnl\", df.total_pnl.sum())\n",
    "print(df)\n",
    "    "
   ]
  },
  {
   "cell_type": "markdown",
   "id": "8514c6a7",
   "metadata": {},
   "source": []
  }
 ],
 "metadata": {
  "kernelspec": {
   "display_name": "Python 3",
   "language": "python",
   "name": "python3"
  },
  "language_info": {
   "codemirror_mode": {
    "name": "ipython",
    "version": 3
   },
   "file_extension": ".py",
   "mimetype": "text/x-python",
   "name": "python",
   "nbconvert_exporter": "python",
   "pygments_lexer": "ipython3",
   "version": "3.8.8"
  }
 },
 "nbformat": 4,
 "nbformat_minor": 5
}
