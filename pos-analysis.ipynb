{
 "cells": [
  {
   "cell_type": "code",
   "execution_count": null,
   "id": "35025de0",
   "metadata": {},
   "outputs": [],
   "source": [
    "%reload_ext autoreload\n",
    "%autoreload 2\n",
    "\n",
    "import pnllib\n",
    "import pandas as pd\n",
    "import numpy as np\n",
    "from positionslib import get_expiration_indexed_positions\n",
    "pnllib.set_log_level(pnllib.ERROR)"
   ]
  },
  {
   "cell_type": "code",
   "execution_count": null,
   "id": "d2cec140",
   "metadata": {},
   "outputs": [],
   "source": [
    "NEEDED_COLUMNS=['Symbol', 'Quantity', 'Cost Basis', \"PnL\", \"Margin\", \"Margin Requirement\"]\n",
    "print(0)\n",
    "\n",
    "filename=\"/Users/rameshsubrahmanyam/Desktop/pos.csv\"\n",
    "\n",
    "dct=get_expiration_indexed_positions(filename, needed_columns=NEEDED_COLUMNS)\n",
    "keys=sorted(dct.keys())\n",
    "\n",
    "\n",
    "print(\"Date       Quantity   Premium    PNL   Margin\")\n",
    "print(\"=====================================\")\n",
    "\n",
    "for key in keys:\n",
    "    print(key, end=\" \")\n",
    "    d=dct[key]\n",
    "    cost_basis=d[\"Cost Basis\"]\n",
    "    qty=d[\"Quantity\"]\n",
    "    premium=cost_basis\n",
    "    pnl=d[\"PnL\"]\n",
    "    margin=int(d.Margin.sum())\n",
    "    print(\"{:8d} {:8.2f} {:8.2f} {:6d}\".format(abs(qty.sum()), premium.sum(), pnl.sum(), margin)) \n",
    "    \n"
   ]
  },
  {
   "cell_type": "code",
   "execution_count": null,
   "id": "dbcd529d",
   "metadata": {},
   "outputs": [],
   "source": [
    "d=dct[\"08/09/2024\"]\n",
    "d[\"gap\"]=-d[\"Cost Basis\"] - d.PnL\n",
    "d.loc[d.PnL + d[\"Cost Basis\"] < -50, [\"Symbol\", \"Quantity\", \"Cost Basis\", \"PnL\", \"gap\", \"Margin\"] ].reset_index()"
   ]
  }
 ],
 "metadata": {
  "kernelspec": {
   "display_name": "Python 3",
   "language": "python",
   "name": "python3"
  },
  "language_info": {
   "codemirror_mode": {
    "name": "ipython",
    "version": 3
   },
   "file_extension": ".py",
   "mimetype": "text/x-python",
   "name": "python",
   "nbconvert_exporter": "python",
   "pygments_lexer": "ipython3",
   "version": "3.8.8"
  }
 },
 "nbformat": 4,
 "nbformat_minor": 5
}
